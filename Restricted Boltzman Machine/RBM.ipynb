{
 "cells": [
  {
   "cell_type": "code",
   "execution_count": 8,
   "metadata": {},
   "outputs": [],
   "source": [
    "import numpy as np\n",
    "import matplotlib.pyplot as plt \n",
    "import torch\n",
    "import torch.nn.functional as F # funções do Torch\n",
    "import torch.utils.data"
   ]
  },
  {
   "cell_type": "code",
   "execution_count": 11,
   "metadata": {},
   "outputs": [
    {
     "name": "stdout",
     "output_type": "stream",
     "text": [
      "Extracting MNIST_data/train-images-idx3-ubyte.gz\n",
      "Extracting MNIST_data/train-labels-idx1-ubyte.gz\n",
      "Extracting MNIST_data/t10k-images-idx3-ubyte.gz\n",
      "Extracting MNIST_data/t10k-labels-idx1-ubyte.gz\n"
     ]
    }
   ],
   "source": [
    "from tensorflow.examples.tutorials.mnist import input_data\n",
    "mnist = input_data.read_data_sets('MNIST_data', one_hot = True)\n",
    "X_train = mnist.train.images  # Returns np.array\n",
    "X_train = np.random.binomial(1,X_train)\n",
    "\n",
    "X_train = torch.from_numpy(X_train).float() # numpy to torch.tensor\n"
   ]
  },
  {
   "cell_type": "code",
   "execution_count": 20,
   "metadata": {},
   "outputs": [],
   "source": [
    "class RBM():\n",
    "    def __init__(self, nv=784, nh=100, cd_steps=10 ):\n",
    "        self.W = torch.randn(nv, nh)*0.01\n",
    "        self.bh = torch.zeros(nh)\n",
    "        self.bv = torch.zeros(nv)\n",
    "        self.cd_steps = cd_steps\n",
    "        self.v= nv\n",
    "        \n",
    "    def energy(self, v):\n",
    "        b_term = v.mv(self.bv)\n",
    "        linear_tranform = F.linear(v, self.W.t(), self.bh)\n",
    "        h_term = linear_tranform.exp().add(1).log().sum(1)\n",
    "        return (-h_term -b_term).mean()\n",
    "    \n",
    "    def get_pseudo_likelihood_cost(self,v0,vk):\n",
    "        loss = self.energy(v0) - self.energy(vk)\n",
    "        cost = torch.mean( self.v * (torch.sigmoid(loss)).log() )\n",
    "        return cost\n",
    "    \n",
    "    def sample_h(self, x):\n",
    "        p_h_given_v = torch.sigmoid( F.linear(x, self.W.t(), self.bh) )\n",
    "        return p_h_given_v, torch.bernoulli(p_h_given_v)\n",
    "    \n",
    "    def sample_v(self, y):\n",
    "        p_v_given_h = torch.sigmoid(F.linear( y, self.W,self.bv))\n",
    "        return p_v_given_h, torch.bernoulli(p_v_given_h)\n",
    "    \n",
    "    def update(self, v0, vk, ph0, phk):\n",
    "        learning_rate=0.4\n",
    "        self.W += learning_rate*(torch.mm(v0.t(), ph0) - torch.mm(vk.t(), phk))\n",
    "        self.bv += learning_rate*(torch.sum((v0-vk), 0))\n",
    "        self.bh += learning_rate*(torch.sum((ph0-phk), 0))\n",
    "        \n",
    "    def gibbs_step(self,v):\n",
    "        vk = v # inicializa vk\n",
    "        for k in range(self.cd_steps):\n",
    "            _,hk = self.sample_h(vk)\n",
    "            _,vk = self.sample_v(hk)\n",
    "        return vk\n",
    "    \n",
    "    def predict(self,v_sample,steps=5000):\n",
    "        v = v_sample.clone() # inicializa vk\n",
    "        for step in range(steps):\n",
    "            _,h = self.sample_h(v)\n",
    "            _,v = self.sample_v(h)\n",
    "        \n",
    "        return v\n",
    "        \n",
    "    \n",
    "    def fit(self, x_set = None, nb_epoch = 10, batch_size = 100):\n",
    "        # Training the RBM\n",
    "        for epoch in range(1, nb_epoch + 1):\n",
    "            losses = []\n",
    "            s = 0.\n",
    "            for id_img in range(0, len(x_set) - batch_size, batch_size):\n",
    "                x_batch = x_set[id_img:id_img+batch_size]\n",
    "                \n",
    "                vk = x_batch\n",
    "                v0 = x_batch\n",
    "                ph0,_ = self.sample_h(v0)\n",
    "                \n",
    "                vk = self.gibbs_step(vk)\n",
    "                \n",
    "                phk,_ = self.sample_h(vk)\n",
    "                self.update(v0, vk, ph0, phk)\n",
    "                s += 1.\n",
    "                \n",
    "                loss = rbm.energy(v0) - rbm.energy(vk) # computa o custo\n",
    "                losses.append(loss.item())\n",
    "                \n",
    "            print('epoch: '+str(epoch)+' loss: '+str( np.mean(losses) ))"
   ]
  },
  {
   "cell_type": "code",
   "execution_count": 21,
   "metadata": {},
   "outputs": [
    {
     "name": "stdout",
     "output_type": "stream",
     "text": [
      "epoch: 1 loss: -1061.4783172329485\n",
      "epoch: 2 loss: -1054.9912403989142\n",
      "epoch: 3 loss: -1056.4292289025145\n",
      "epoch: 4 loss: -1055.4433847229338\n",
      "epoch: 5 loss: -1055.5694557843096\n",
      "epoch: 6 loss: -1054.611995287063\n",
      "epoch: 7 loss: -1057.4224026372524\n",
      "epoch: 8 loss: -1054.249499711834\n",
      "epoch: 9 loss: -1056.555871404151\n",
      "epoch: 10 loss: -1057.590575393649\n"
     ]
    }
   ],
   "source": [
    "rbm = RBM()\n",
    "rbm.fit(x_set = X_train, nb_epoch = 10)\n"
   ]
  },
  {
   "cell_type": "code",
   "execution_count": 22,
   "metadata": {},
   "outputs": [],
   "source": [
    "def show_digit(original, fake):\n",
    "    f, (ax1, ax2) = plt.subplots(1, 2, sharey=True)\n",
    "    ax1.imshow(original.reshape((28,28)),cmap = plt.cm.gray)\n",
    "    ax1.set_title('Original digit')\n",
    "    ax2.imshow(fake.reshape((28,28)),cmap = plt.cm.gray)\n",
    "    ax2.set_title('Sampled digit')\n",
    "    plt.show()"
   ]
  },
  {
   "cell_type": "code",
   "execution_count": 30,
   "metadata": {},
   "outputs": [
    {
     "data": {
      "image/png": "[encoded data removed]",
      "text/plain": [
       "<Figure size 432x288 with 2 Axes>"
      ]
     },
     "metadata": {
      "needs_background": "light"
     },
     "output_type": "display_data"
    }
   ],
   "source": [
    "\n",
    "pict = 3\n",
    "\n",
    "test = X_train[pict]\n",
    "\n",
    "vk=rbm.predict(test)\n",
    "test= vk.numpy()\n",
    "\n",
    "show_digit(X_train[pict], test)\n"
   ]
  },
  {
   "cell_type": "code",
   "execution_count": null,
   "metadata": {},
   "outputs": [],
   "source": []
  }
 ],
 "metadata": {
  "kernelspec": {
   "display_name": "Python 3",
   "language": "python",
   "name": "python3"
  },
  "language_info": {
   "codemirror_mode": {
    "name": "ipython",
    "version": 3
   },
   "file_extension": ".py",
   "mimetype": "text/x-python",
   "name": "python",
   "nbconvert_exporter": "python",
   "pygments_lexer": "ipython3",
   "version": "3.6.6"
  }
 },
 "nbformat": 4,
 "nbformat_minor": 2
}
